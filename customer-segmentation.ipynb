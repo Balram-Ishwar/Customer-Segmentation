{
 "cells": [
  {
   "cell_type": "code",
   "execution_count": null,
   "id": "medieval-numbers",
   "metadata": {
    "_cell_guid": "b1076dfc-b9ad-4769-8c92-a6c4dae69d19",
    "_uuid": "8f2839f25d086af736a60e9eeb907d3b93b6e0e5",
    "papermill": {
     "duration": 0.017253,
     "end_time": "2021-06-03T19:45:07.897084",
     "exception": false,
     "start_time": "2021-06-03T19:45:07.879831",
     "status": "completed"
    },
    "tags": []
   },
   "outputs": [],
   "source": []
  },
  {
   "cell_type": "markdown",
   "id": "sound-academy",
   "metadata": {
    "papermill": {
     "duration": 0.015608,
     "end_time": "2021-06-03T19:45:07.928880",
     "exception": false,
     "start_time": "2021-06-03T19:45:07.913272",
     "status": "completed"
    },
    "tags": []
   },
   "source": [
    "# Importing all the Dependencies"
   ]
  },
  {
   "cell_type": "code",
   "execution_count": 1,
   "id": "metallic-chosen",
   "metadata": {
    "execution": {
     "iopub.execute_input": "2021-06-03T19:45:07.966334Z",
     "iopub.status.busy": "2021-06-03T19:45:07.965718Z",
     "iopub.status.idle": "2021-06-03T19:45:09.436178Z",
     "shell.execute_reply": "2021-06-03T19:45:09.435349Z",
     "shell.execute_reply.started": "2021-06-03T19:20:49.420956Z"
    },
    "papermill": {
     "duration": 1.49136,
     "end_time": "2021-06-03T19:45:09.436338",
     "exception": false,
     "start_time": "2021-06-03T19:45:07.944978",
     "status": "completed"
    },
    "tags": []
   },
   "outputs": [],
   "source": [
    "import numpy as np\n",
    "import pandas as pd\n",
    "import matplotlib.pyplot as plt\n",
    "import seaborn as sns\n",
    "from sklearn.cluster import KMeans"
   ]
  },
  {
   "cell_type": "code",
   "execution_count": 2,
   "id": "empirical-religion",
   "metadata": {
    "execution": {
     "iopub.execute_input": "2021-06-03T19:45:09.474117Z",
     "iopub.status.busy": "2021-06-03T19:45:09.473411Z",
     "iopub.status.idle": "2021-06-03T19:45:09.495769Z",
     "shell.execute_reply": "2021-06-03T19:45:09.495178Z",
     "shell.execute_reply.started": "2021-06-03T19:21:46.640688Z"
    },
    "papermill": {
     "duration": 0.043228,
     "end_time": "2021-06-03T19:45:09.495909",
     "exception": false,
     "start_time": "2021-06-03T19:45:09.452681",
     "status": "completed"
    },
    "tags": []
   },
   "outputs": [],
   "source": [
    "customer = pd.read_csv('Mall_Customers.csv')"
   ]
  },
  {
   "cell_type": "code",
   "execution_count": 3,
   "id": "defensive-courtesy",
   "metadata": {
    "execution": {
     "iopub.execute_input": "2021-06-03T19:45:09.539375Z",
     "iopub.status.busy": "2021-06-03T19:45:09.538734Z",
     "iopub.status.idle": "2021-06-03T19:45:09.556652Z",
     "shell.execute_reply": "2021-06-03T19:45:09.557223Z",
     "shell.execute_reply.started": "2021-06-03T19:21:57.205653Z"
    },
    "papermill": {
     "duration": 0.045304,
     "end_time": "2021-06-03T19:45:09.557389",
     "exception": false,
     "start_time": "2021-06-03T19:45:09.512085",
     "status": "completed"
    },
    "tags": []
   },
   "outputs": [
    {
     "data": {
      "text/html": [
       "<div>\n",
       "<style scoped>\n",
       "    .dataframe tbody tr th:only-of-type {\n",
       "        vertical-align: middle;\n",
       "    }\n",
       "\n",
       "    .dataframe tbody tr th {\n",
       "        vertical-align: top;\n",
       "    }\n",
       "\n",
       "    .dataframe thead th {\n",
       "        text-align: right;\n",
       "    }\n",
       "</style>\n",
       "<table border=\"1\" class=\"dataframe\">\n",
       "  <thead>\n",
       "    <tr style=\"text-align: right;\">\n",
       "      <th></th>\n",
       "      <th>CustomerID</th>\n",
       "      <th>Genre</th>\n",
       "      <th>Age</th>\n",
       "      <th>Annual Income (k$)</th>\n",
       "      <th>Spending Score (1-100)</th>\n",
       "    </tr>\n",
       "  </thead>\n",
       "  <tbody>\n",
       "    <tr>\n",
       "      <th>0</th>\n",
       "      <td>1</td>\n",
       "      <td>Male</td>\n",
       "      <td>19</td>\n",
       "      <td>15</td>\n",
       "      <td>39</td>\n",
       "    </tr>\n",
       "    <tr>\n",
       "      <th>1</th>\n",
       "      <td>2</td>\n",
       "      <td>Male</td>\n",
       "      <td>21</td>\n",
       "      <td>15</td>\n",
       "      <td>81</td>\n",
       "    </tr>\n",
       "    <tr>\n",
       "      <th>2</th>\n",
       "      <td>3</td>\n",
       "      <td>Female</td>\n",
       "      <td>20</td>\n",
       "      <td>16</td>\n",
       "      <td>6</td>\n",
       "    </tr>\n",
       "    <tr>\n",
       "      <th>3</th>\n",
       "      <td>4</td>\n",
       "      <td>Female</td>\n",
       "      <td>23</td>\n",
       "      <td>16</td>\n",
       "      <td>77</td>\n",
       "    </tr>\n",
       "    <tr>\n",
       "      <th>4</th>\n",
       "      <td>5</td>\n",
       "      <td>Female</td>\n",
       "      <td>31</td>\n",
       "      <td>17</td>\n",
       "      <td>40</td>\n",
       "    </tr>\n",
       "  </tbody>\n",
       "</table>\n",
       "</div>"
      ],
      "text/plain": [
       "   CustomerID   Genre  Age  Annual Income (k$)  Spending Score (1-100)\n",
       "0           1    Male   19                  15                      39\n",
       "1           2    Male   21                  15                      81\n",
       "2           3  Female   20                  16                       6\n",
       "3           4  Female   23                  16                      77\n",
       "4           5  Female   31                  17                      40"
      ]
     },
     "execution_count": 3,
     "metadata": {},
     "output_type": "execute_result"
    }
   ],
   "source": [
    "customer.head()"
   ]
  },
  {
   "cell_type": "code",
   "execution_count": 4,
   "id": "increased-senegal",
   "metadata": {
    "execution": {
     "iopub.execute_input": "2021-06-03T19:45:09.597777Z",
     "iopub.status.busy": "2021-06-03T19:45:09.597132Z",
     "iopub.status.idle": "2021-06-03T19:45:09.601324Z",
     "shell.execute_reply": "2021-06-03T19:45:09.600814Z",
     "shell.execute_reply.started": "2021-06-03T19:22:13.694273Z"
    },
    "papermill": {
     "duration": 0.02604,
     "end_time": "2021-06-03T19:45:09.601462",
     "exception": false,
     "start_time": "2021-06-03T19:45:09.575422",
     "status": "completed"
    },
    "tags": []
   },
   "outputs": [
    {
     "data": {
      "text/plain": [
       "(200, 5)"
      ]
     },
     "execution_count": 4,
     "metadata": {},
     "output_type": "execute_result"
    }
   ],
   "source": [
    "customer.shape"
   ]
  },
  {
   "cell_type": "code",
   "execution_count": 5,
   "id": "distant-conflict",
   "metadata": {
    "execution": {
     "iopub.execute_input": "2021-06-03T19:45:09.644551Z",
     "iopub.status.busy": "2021-06-03T19:45:09.643862Z",
     "iopub.status.idle": "2021-06-03T19:45:09.655345Z",
     "shell.execute_reply": "2021-06-03T19:45:09.655902Z",
     "shell.execute_reply.started": "2021-06-03T19:22:31.894046Z"
    },
    "papermill": {
     "duration": 0.03772,
     "end_time": "2021-06-03T19:45:09.656106",
     "exception": false,
     "start_time": "2021-06-03T19:45:09.618386",
     "status": "completed"
    },
    "tags": []
   },
   "outputs": [
    {
     "name": "stdout",
     "output_type": "stream",
     "text": [
      "<class 'pandas.core.frame.DataFrame'>\n",
      "RangeIndex: 200 entries, 0 to 199\n",
      "Data columns (total 5 columns):\n",
      " #   Column                  Non-Null Count  Dtype \n",
      "---  ------                  --------------  ----- \n",
      " 0   CustomerID              200 non-null    int64 \n",
      " 1   Genre                   200 non-null    object\n",
      " 2   Age                     200 non-null    int64 \n",
      " 3   Annual Income (k$)      200 non-null    int64 \n",
      " 4   Spending Score (1-100)  200 non-null    int64 \n",
      "dtypes: int64(4), object(1)\n",
      "memory usage: 7.9+ KB\n"
     ]
    }
   ],
   "source": [
    "customer.info()"
   ]
  },
  {
   "cell_type": "code",
   "execution_count": 6,
   "id": "configured-given",
   "metadata": {
    "execution": {
     "iopub.execute_input": "2021-06-03T19:45:09.693901Z",
     "iopub.status.busy": "2021-06-03T19:45:09.693283Z",
     "iopub.status.idle": "2021-06-03T19:45:09.700339Z",
     "shell.execute_reply": "2021-06-03T19:45:09.700816Z",
     "shell.execute_reply.started": "2021-06-03T19:22:51.754640Z"
    },
    "papermill": {
     "duration": 0.027141,
     "end_time": "2021-06-03T19:45:09.700979",
     "exception": false,
     "start_time": "2021-06-03T19:45:09.673838",
     "status": "completed"
    },
    "tags": []
   },
   "outputs": [
    {
     "data": {
      "text/plain": [
       "CustomerID                0\n",
       "Genre                     0\n",
       "Age                       0\n",
       "Annual Income (k$)        0\n",
       "Spending Score (1-100)    0\n",
       "dtype: int64"
      ]
     },
     "execution_count": 6,
     "metadata": {},
     "output_type": "execute_result"
    }
   ],
   "source": [
    "customer.isnull().sum()"
   ]
  },
  {
   "cell_type": "markdown",
   "id": "impossible-clerk",
   "metadata": {
    "papermill": {
     "duration": 0.017991,
     "end_time": "2021-06-03T19:45:09.736538",
     "exception": false,
     "start_time": "2021-06-03T19:45:09.718547",
     "status": "completed"
    },
    "tags": []
   },
   "source": [
    "# Choosing only Annual Income and Spending Score"
   ]
  },
  {
   "cell_type": "code",
   "execution_count": 7,
   "id": "alone-royal",
   "metadata": {
    "execution": {
     "iopub.execute_input": "2021-06-03T19:45:09.774810Z",
     "iopub.status.busy": "2021-06-03T19:45:09.774153Z",
     "iopub.status.idle": "2021-06-03T19:45:09.778506Z",
     "shell.execute_reply": "2021-06-03T19:45:09.778988Z",
     "shell.execute_reply.started": "2021-06-03T19:24:41.518660Z"
    },
    "papermill": {
     "duration": 0.025014,
     "end_time": "2021-06-03T19:45:09.779182",
     "exception": false,
     "start_time": "2021-06-03T19:45:09.754168",
     "status": "completed"
    },
    "tags": []
   },
   "outputs": [],
   "source": [
    "X=customer.iloc[:,[3,4]].values"
   ]
  },
  {
   "cell_type": "code",
   "execution_count": 8,
   "id": "expanded-diagram",
   "metadata": {
    "execution": {
     "iopub.execute_input": "2021-06-03T19:45:09.817559Z",
     "iopub.status.busy": "2021-06-03T19:45:09.816908Z",
     "iopub.status.idle": "2021-06-03T19:45:09.824636Z",
     "shell.execute_reply": "2021-06-03T19:45:09.825153Z",
     "shell.execute_reply.started": "2021-06-03T19:25:04.692805Z"
    },
    "papermill": {
     "duration": 0.028239,
     "end_time": "2021-06-03T19:45:09.825330",
     "exception": false,
     "start_time": "2021-06-03T19:45:09.797091",
     "status": "completed"
    },
    "tags": []
   },
   "outputs": [
    {
     "data": {
      "text/plain": [
       "array([[ 15,  39],\n",
       "       [ 15,  81],\n",
       "       [ 16,   6],\n",
       "       [ 16,  77],\n",
       "       [ 17,  40],\n",
       "       [ 17,  76],\n",
       "       [ 18,   6],\n",
       "       [ 18,  94],\n",
       "       [ 19,   3],\n",
       "       [ 19,  72],\n",
       "       [ 19,  14],\n",
       "       [ 19,  99],\n",
       "       [ 20,  15],\n",
       "       [ 20,  77],\n",
       "       [ 20,  13],\n",
       "       [ 20,  79],\n",
       "       [ 21,  35],\n",
       "       [ 21,  66],\n",
       "       [ 23,  29],\n",
       "       [ 23,  98],\n",
       "       [ 24,  35],\n",
       "       [ 24,  73],\n",
       "       [ 25,   5],\n",
       "       [ 25,  73],\n",
       "       [ 28,  14],\n",
       "       [ 28,  82],\n",
       "       [ 28,  32],\n",
       "       [ 28,  61],\n",
       "       [ 29,  31],\n",
       "       [ 29,  87],\n",
       "       [ 30,   4],\n",
       "       [ 30,  73],\n",
       "       [ 33,   4],\n",
       "       [ 33,  92],\n",
       "       [ 33,  14],\n",
       "       [ 33,  81],\n",
       "       [ 34,  17],\n",
       "       [ 34,  73],\n",
       "       [ 37,  26],\n",
       "       [ 37,  75],\n",
       "       [ 38,  35],\n",
       "       [ 38,  92],\n",
       "       [ 39,  36],\n",
       "       [ 39,  61],\n",
       "       [ 39,  28],\n",
       "       [ 39,  65],\n",
       "       [ 40,  55],\n",
       "       [ 40,  47],\n",
       "       [ 40,  42],\n",
       "       [ 40,  42],\n",
       "       [ 42,  52],\n",
       "       [ 42,  60],\n",
       "       [ 43,  54],\n",
       "       [ 43,  60],\n",
       "       [ 43,  45],\n",
       "       [ 43,  41],\n",
       "       [ 44,  50],\n",
       "       [ 44,  46],\n",
       "       [ 46,  51],\n",
       "       [ 46,  46],\n",
       "       [ 46,  56],\n",
       "       [ 46,  55],\n",
       "       [ 47,  52],\n",
       "       [ 47,  59],\n",
       "       [ 48,  51],\n",
       "       [ 48,  59],\n",
       "       [ 48,  50],\n",
       "       [ 48,  48],\n",
       "       [ 48,  59],\n",
       "       [ 48,  47],\n",
       "       [ 49,  55],\n",
       "       [ 49,  42],\n",
       "       [ 50,  49],\n",
       "       [ 50,  56],\n",
       "       [ 54,  47],\n",
       "       [ 54,  54],\n",
       "       [ 54,  53],\n",
       "       [ 54,  48],\n",
       "       [ 54,  52],\n",
       "       [ 54,  42],\n",
       "       [ 54,  51],\n",
       "       [ 54,  55],\n",
       "       [ 54,  41],\n",
       "       [ 54,  44],\n",
       "       [ 54,  57],\n",
       "       [ 54,  46],\n",
       "       [ 57,  58],\n",
       "       [ 57,  55],\n",
       "       [ 58,  60],\n",
       "       [ 58,  46],\n",
       "       [ 59,  55],\n",
       "       [ 59,  41],\n",
       "       [ 60,  49],\n",
       "       [ 60,  40],\n",
       "       [ 60,  42],\n",
       "       [ 60,  52],\n",
       "       [ 60,  47],\n",
       "       [ 60,  50],\n",
       "       [ 61,  42],\n",
       "       [ 61,  49],\n",
       "       [ 62,  41],\n",
       "       [ 62,  48],\n",
       "       [ 62,  59],\n",
       "       [ 62,  55],\n",
       "       [ 62,  56],\n",
       "       [ 62,  42],\n",
       "       [ 63,  50],\n",
       "       [ 63,  46],\n",
       "       [ 63,  43],\n",
       "       [ 63,  48],\n",
       "       [ 63,  52],\n",
       "       [ 63,  54],\n",
       "       [ 64,  42],\n",
       "       [ 64,  46],\n",
       "       [ 65,  48],\n",
       "       [ 65,  50],\n",
       "       [ 65,  43],\n",
       "       [ 65,  59],\n",
       "       [ 67,  43],\n",
       "       [ 67,  57],\n",
       "       [ 67,  56],\n",
       "       [ 67,  40],\n",
       "       [ 69,  58],\n",
       "       [ 69,  91],\n",
       "       [ 70,  29],\n",
       "       [ 70,  77],\n",
       "       [ 71,  35],\n",
       "       [ 71,  95],\n",
       "       [ 71,  11],\n",
       "       [ 71,  75],\n",
       "       [ 71,   9],\n",
       "       [ 71,  75],\n",
       "       [ 72,  34],\n",
       "       [ 72,  71],\n",
       "       [ 73,   5],\n",
       "       [ 73,  88],\n",
       "       [ 73,   7],\n",
       "       [ 73,  73],\n",
       "       [ 74,  10],\n",
       "       [ 74,  72],\n",
       "       [ 75,   5],\n",
       "       [ 75,  93],\n",
       "       [ 76,  40],\n",
       "       [ 76,  87],\n",
       "       [ 77,  12],\n",
       "       [ 77,  97],\n",
       "       [ 77,  36],\n",
       "       [ 77,  74],\n",
       "       [ 78,  22],\n",
       "       [ 78,  90],\n",
       "       [ 78,  17],\n",
       "       [ 78,  88],\n",
       "       [ 78,  20],\n",
       "       [ 78,  76],\n",
       "       [ 78,  16],\n",
       "       [ 78,  89],\n",
       "       [ 78,   1],\n",
       "       [ 78,  78],\n",
       "       [ 78,   1],\n",
       "       [ 78,  73],\n",
       "       [ 79,  35],\n",
       "       [ 79,  83],\n",
       "       [ 81,   5],\n",
       "       [ 81,  93],\n",
       "       [ 85,  26],\n",
       "       [ 85,  75],\n",
       "       [ 86,  20],\n",
       "       [ 86,  95],\n",
       "       [ 87,  27],\n",
       "       [ 87,  63],\n",
       "       [ 87,  13],\n",
       "       [ 87,  75],\n",
       "       [ 87,  10],\n",
       "       [ 87,  92],\n",
       "       [ 88,  13],\n",
       "       [ 88,  86],\n",
       "       [ 88,  15],\n",
       "       [ 88,  69],\n",
       "       [ 93,  14],\n",
       "       [ 93,  90],\n",
       "       [ 97,  32],\n",
       "       [ 97,  86],\n",
       "       [ 98,  15],\n",
       "       [ 98,  88],\n",
       "       [ 99,  39],\n",
       "       [ 99,  97],\n",
       "       [101,  24],\n",
       "       [101,  68],\n",
       "       [103,  17],\n",
       "       [103,  85],\n",
       "       [103,  23],\n",
       "       [103,  69],\n",
       "       [113,   8],\n",
       "       [113,  91],\n",
       "       [120,  16],\n",
       "       [120,  79],\n",
       "       [126,  28],\n",
       "       [126,  74],\n",
       "       [137,  18],\n",
       "       [137,  83]], dtype=int64)"
      ]
     },
     "execution_count": 8,
     "metadata": {},
     "output_type": "execute_result"
    }
   ],
   "source": [
    "X"
   ]
  },
  {
   "cell_type": "markdown",
   "id": "informed-elevation",
   "metadata": {
    "papermill": {
     "duration": 0.017922,
     "end_time": "2021-06-03T19:45:09.861336",
     "exception": false,
     "start_time": "2021-06-03T19:45:09.843414",
     "status": "completed"
    },
    "tags": []
   },
   "source": [
    "# Choosing number of Clusters\n",
    "## WCSS -> within cluster sum of square"
   ]
  },
  {
   "cell_type": "code",
   "execution_count": 9,
   "id": "sonic-blake",
   "metadata": {
    "execution": {
     "iopub.execute_input": "2021-06-03T19:45:09.906355Z",
     "iopub.status.busy": "2021-06-03T19:45:09.905189Z",
     "iopub.status.idle": "2021-06-03T19:45:10.376776Z",
     "shell.execute_reply": "2021-06-03T19:45:10.376143Z",
     "shell.execute_reply.started": "2021-06-03T19:29:30.385819Z"
    },
    "papermill": {
     "duration": 0.497395,
     "end_time": "2021-06-03T19:45:10.376915",
     "exception": false,
     "start_time": "2021-06-03T19:45:09.879520",
     "status": "completed"
    },
    "tags": []
   },
   "outputs": [],
   "source": [
    "wcss = []\n",
    "for i in range(1,11):\n",
    "    kmeans=KMeans(n_clusters=i,init='k-means++',random_state=42)\n",
    "    kmeans.fit(X)\n",
    "    wcss.append(kmeans.inertia_)"
   ]
  },
  {
   "cell_type": "code",
   "execution_count": 10,
   "id": "revised-lingerie",
   "metadata": {
    "execution": {
     "iopub.execute_input": "2021-06-03T19:45:10.422166Z",
     "iopub.status.busy": "2021-06-03T19:45:10.421252Z",
     "iopub.status.idle": "2021-06-03T19:45:10.424896Z",
     "shell.execute_reply": "2021-06-03T19:45:10.425451Z",
     "shell.execute_reply.started": "2021-06-03T19:29:36.756582Z"
    },
    "papermill": {
     "duration": 0.029633,
     "end_time": "2021-06-03T19:45:10.425615",
     "exception": false,
     "start_time": "2021-06-03T19:45:10.395982",
     "status": "completed"
    },
    "tags": []
   },
   "outputs": [
    {
     "data": {
      "text/plain": [
       "[269981.28000000014,\n",
       " 181363.59595959607,\n",
       " 106348.37306211119,\n",
       " 73679.78903948837,\n",
       " 44448.45544793369,\n",
       " 37233.81451071002,\n",
       " 30259.657207285458,\n",
       " 25011.839349156595,\n",
       " 21850.16528258562,\n",
       " 19672.07284901432]"
      ]
     },
     "execution_count": 10,
     "metadata": {},
     "output_type": "execute_result"
    }
   ],
   "source": [
    "wcss"
   ]
  },
  {
   "cell_type": "markdown",
   "id": "medieval-collapse",
   "metadata": {
    "papermill": {
     "duration": 0.017963,
     "end_time": "2021-06-03T19:45:10.461910",
     "exception": false,
     "start_time": "2021-06-03T19:45:10.443947",
     "status": "completed"
    },
    "tags": []
   },
   "source": [
    "# Plot an elbow graph\n"
   ]
  },
  {
   "cell_type": "code",
   "execution_count": 11,
   "id": "adolescent-frederick",
   "metadata": {
    "execution": {
     "iopub.execute_input": "2021-06-03T19:45:10.504039Z",
     "iopub.status.busy": "2021-06-03T19:45:10.503096Z",
     "iopub.status.idle": "2021-06-03T19:45:10.710434Z",
     "shell.execute_reply": "2021-06-03T19:45:10.711051Z",
     "shell.execute_reply.started": "2021-06-03T19:32:09.441736Z"
    },
    "papermill": {
     "duration": 0.229145,
     "end_time": "2021-06-03T19:45:10.711218",
     "exception": false,
     "start_time": "2021-06-03T19:45:10.482073",
     "status": "completed"
    },
    "tags": []
   },
   "outputs": [
    {
     "data": {
      "image/png": "[encoded data removed]",
      "text/plain": [
       "<Figure size 432x288 with 1 Axes>"
      ]
     },
     "metadata": {},
     "output_type": "display_data"
    }
   ],
   "source": [
    "sns.set()\n",
    "plt.plot(range(1,11),wcss)\n",
    "plt.title('The Elbow point Graph')\n",
    "plt.xlabel('Number of Cluster')\n",
    "plt.ylabel('WCSS')\n",
    "plt.show()"
   ]
  },
  {
   "cell_type": "markdown",
   "id": "cordless-malaysia",
   "metadata": {
    "papermill": {
     "duration": 0.018952,
     "end_time": "2021-06-03T19:45:10.749111",
     "exception": false,
     "start_time": "2021-06-03T19:45:10.730159",
     "status": "completed"
    },
    "tags": []
   },
   "source": [
    "# Opyimum Number of Cluster=5\n",
    "## Training the K-Means Clustering methods"
   ]
  },
  {
   "cell_type": "code",
   "execution_count": 12,
   "id": "presidential-vacation",
   "metadata": {
    "execution": {
     "iopub.execute_input": "2021-06-03T19:45:10.791263Z",
     "iopub.status.busy": "2021-06-03T19:45:10.790274Z",
     "iopub.status.idle": "2021-06-03T19:45:10.824220Z",
     "shell.execute_reply": "2021-06-03T19:45:10.824757Z",
     "shell.execute_reply.started": "2021-06-03T19:35:18.307094Z"
    },
    "papermill": {
     "duration": 0.056747,
     "end_time": "2021-06-03T19:45:10.824930",
     "exception": false,
     "start_time": "2021-06-03T19:45:10.768183",
     "status": "completed"
    },
    "tags": []
   },
   "outputs": [],
   "source": [
    "\n",
    "kmeans=KMeans(n_clusters=5,init='k-means++',random_state=0)\n",
    "Y=kmeans.fit_predict(X)"
   ]
  },
  {
   "cell_type": "code",
   "execution_count": 13,
   "id": "generous-dealer",
   "metadata": {
    "execution": {
     "iopub.execute_input": "2021-06-03T19:45:10.867037Z",
     "iopub.status.busy": "2021-06-03T19:45:10.866075Z",
     "iopub.status.idle": "2021-06-03T19:45:10.872211Z",
     "shell.execute_reply": "2021-06-03T19:45:10.872797Z",
     "shell.execute_reply.started": "2021-06-03T19:35:21.846050Z"
    },
    "papermill": {
     "duration": 0.028924,
     "end_time": "2021-06-03T19:45:10.872960",
     "exception": false,
     "start_time": "2021-06-03T19:45:10.844036",
     "status": "completed"
    },
    "tags": []
   },
   "outputs": [
    {
     "data": {
      "text/plain": [
       "array([4, 3, 4, 3, 4, 3, 4, 3, 4, 3, 4, 3, 4, 3, 4, 3, 4, 3, 4, 3, 4, 3,\n",
       "       4, 3, 4, 3, 4, 3, 4, 3, 4, 3, 4, 3, 4, 3, 4, 3, 4, 3, 4, 3, 4, 1,\n",
       "       4, 3, 1, 1, 1, 1, 1, 1, 1, 1, 1, 1, 1, 1, 1, 1, 1, 1, 1, 1, 1, 1,\n",
       "       1, 1, 1, 1, 1, 1, 1, 1, 1, 1, 1, 1, 1, 1, 1, 1, 1, 1, 1, 1, 1, 1,\n",
       "       1, 1, 1, 1, 1, 1, 1, 1, 1, 1, 1, 1, 1, 1, 1, 1, 1, 1, 1, 1, 1, 1,\n",
       "       1, 1, 1, 1, 1, 1, 1, 1, 1, 1, 1, 1, 1, 2, 0, 2, 1, 2, 0, 2, 0, 2,\n",
       "       1, 2, 0, 2, 0, 2, 0, 2, 0, 2, 1, 2, 0, 2, 0, 2, 0, 2, 0, 2, 0, 2,\n",
       "       0, 2, 0, 2, 0, 2, 0, 2, 0, 2, 0, 2, 0, 2, 0, 2, 0, 2, 0, 2, 0, 2,\n",
       "       0, 2, 0, 2, 0, 2, 0, 2, 0, 2, 0, 2, 0, 2, 0, 2, 0, 2, 0, 2, 0, 2,\n",
       "       0, 2])"
      ]
     },
     "execution_count": 13,
     "metadata": {},
     "output_type": "execute_result"
    }
   ],
   "source": [
    "Y"
   ]
  },
  {
   "cell_type": "markdown",
   "id": "abroad-mother",
   "metadata": {
    "papermill": {
     "duration": 0.01934,
     "end_time": "2021-06-03T19:45:10.911796",
     "exception": false,
     "start_time": "2021-06-03T19:45:10.892456",
     "status": "completed"
    },
    "tags": []
   },
   "source": [
    "# Visualizing all the CLusters"
   ]
  },
  {
   "cell_type": "code",
   "execution_count": 14,
   "id": "facial-conditions",
   "metadata": {
    "execution": {
     "iopub.execute_input": "2021-06-03T19:45:10.977696Z",
     "iopub.status.busy": "2021-06-03T19:45:10.954051Z",
     "iopub.status.idle": "2021-06-03T19:45:11.238494Z",
     "shell.execute_reply": "2021-06-03T19:45:11.238972Z",
     "shell.execute_reply.started": "2021-06-03T19:43:42.166806Z"
    },
    "papermill": {
     "duration": 0.307733,
     "end_time": "2021-06-03T19:45:11.239153",
     "exception": false,
     "start_time": "2021-06-03T19:45:10.931420",
     "status": "completed"
    },
    "tags": []
   },
   "outputs": [
    {
     "data": {
      "image/png": "[encoded data removed]",
      "text/plain": [
       "<Figure size 576x576 with 1 Axes>"
      ]
     },
     "metadata": {},
     "output_type": "display_data"
    }
   ],
   "source": [
    "\n",
    "plt.figure(figsize=(8,8))\n",
    "plt.scatter(X[Y==0,0],X[Y==0,1],s=50,c='green',label='Cluster1')\n",
    "plt.scatter(X[Y==1,0],X[Y==1,1],s=50,c='red',label='Cluster2')\n",
    "plt.scatter(X[Y==2,0],X[Y==2,1],s=50,c='yellow',label='Cluster3')\n",
    "plt.scatter(X[Y==3,0],X[Y==3,1],s=50,c='blue',label='Cluster4')\n",
    "plt.scatter(X[Y==4,0],X[Y==4,1],s=50,c='brown',label='Cluster5')\n",
    "\n",
    "\n",
    "# Plotting the Centroids\n",
    "\n",
    "plt.scatter(kmeans.cluster_centers_[:,0],kmeans.cluster_centers_[:,1],s=100,c='cyan',label='Centroids')\n",
    "\n",
    "plt.title('Customer Segmentation')\n",
    "plt.xlabel('Annual Income')\n",
    "plt.ylabel('Spending Score')\n",
    "plt.show()"
   ]
  },
  {
   "cell_type": "code",
   "execution_count": null,
   "id": "wooden-colonial",
   "metadata": {
    "papermill": {
     "duration": 0.020215,
     "end_time": "2021-06-03T19:45:11.280326",
     "exception": false,
     "start_time": "2021-06-03T19:45:11.260111",
     "status": "completed"
    },
    "tags": []
   },
   "outputs": [],
   "source": []
  }
 ],
 "metadata": {
  "kernelspec": {
   "display_name": "Python 3",
   "language": "python",
   "name": "python3"
  },
  "language_info": {
   "codemirror_mode": {
    "name": "ipython",
    "version": 3
   },
   "file_extension": ".py",
   "mimetype": "text/x-python",
   "name": "python",
   "nbconvert_exporter": "python",
   "pygments_lexer": "ipython3",
   "version": "3.9.2"
  },
  "papermill": {
   "default_parameters": {},
   "duration": 10.494998,
   "end_time": "2021-06-03T19:45:12.009345",
   "environment_variables": {},
   "exception": null,
   "input_path": "__notebook__.ipynb",
   "output_path": "__notebook__.ipynb",
   "parameters": {},
   "start_time": "2021-06-03T19:45:01.514347",
   "version": "2.3.2"
  }
 },
 "nbformat": 4,
 "nbformat_minor": 5
}
